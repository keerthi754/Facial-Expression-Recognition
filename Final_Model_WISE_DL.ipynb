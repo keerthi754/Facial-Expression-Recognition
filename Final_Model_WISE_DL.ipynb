{
  "cells": [
    {
      "cell_type": "markdown",
      "metadata": {
        "id": "isY-A1GwB4SY"
      },
      "source": [
        "Facial Expression Recognition"
      ]
    },
    {
      "cell_type": "markdown",
      "metadata": {
        "id": "JPNT06muB7b-"
      },
      "source": [
        "# Data Augmentation"
      ]
    },
    {
      "cell_type": "code",
      "execution_count": null,
      "metadata": {
        "id": "gaCcCH0RCR3k"
      },
      "outputs": [],
      "source": [
        "import tensorflow as tf\n",
        "import numpy as np\n",
        "import matplotlib.pyplot as plt\n",
        "from pathlib import Path"
      ]
    },
    {
      "cell_type": "code",
      "source": [
        "from google.colab import drive\n",
        "drive.mount('/content/drive')"
      ],
      "metadata": {
        "id": "HWLchtqZb_8c",
        "colab": {
          "base_uri": "https://localhost:8080/"
        },
        "outputId": "cf5326fb-5064-4204-be5f-fc7d0b8cd744"
      },
      "execution_count": null,
      "outputs": [
        {
          "output_type": "stream",
          "name": "stdout",
          "text": [
            "Mounted at /content/drive\n"
          ]
        }
      ]
    },
    {
      "cell_type": "code",
      "execution_count": null,
      "metadata": {
        "id": "U97btAAoDSQC"
      },
      "outputs": [],
      "source": [
        "train_path = Path(\"/content/drive/MyDrive/ML DL WISE Project/Pic Data Set/train\")\n",
        "test_path = Path(\"/content/drive/MyDrive/ML DL WISE Project/Pic Data Set/test\")"
      ]
    },
    {
      "cell_type": "code",
      "execution_count": null,
      "metadata": {
        "colab": {
          "base_uri": "https://localhost:8080/"
        },
        "id": "TUVFBuUJDtnx",
        "outputId": "485d5392-fe4e-4554-d0f3-ef8190bb1b3b"
      },
      "outputs": [
        {
          "output_type": "execute_result",
          "data": {
            "text/plain": [
              "['/content/drive/MyDrive/ML DL WISE Project/Pic Data Set/train/fear/Training_78157033.jpg',\n",
              " '/content/drive/MyDrive/ML DL WISE Project/Pic Data Set/train/fear/Training_78169005.jpg',\n",
              " '/content/drive/MyDrive/ML DL WISE Project/Pic Data Set/train/fear/Training_77992952.jpg',\n",
              " '/content/drive/MyDrive/ML DL WISE Project/Pic Data Set/train/fear/Training_78092602.jpg',\n",
              " '/content/drive/MyDrive/ML DL WISE Project/Pic Data Set/train/fear/Training_78019469.jpg',\n",
              " '/content/drive/MyDrive/ML DL WISE Project/Pic Data Set/train/fear/Training_79254931.jpg',\n",
              " '/content/drive/MyDrive/ML DL WISE Project/Pic Data Set/train/fear/Training_78863544.jpg',\n",
              " '/content/drive/MyDrive/ML DL WISE Project/Pic Data Set/train/fear/Training_78992197.jpg',\n",
              " '/content/drive/MyDrive/ML DL WISE Project/Pic Data Set/train/fear/Training_79140997.jpg',\n",
              " '/content/drive/MyDrive/ML DL WISE Project/Pic Data Set/train/fear/Training_79085920.jpg']"
            ]
          },
          "metadata": {},
          "execution_count": 7
        }
      ],
      "source": [
        "train_image_paths = list(train_path.glob(\"*/*\"))\n",
        "train_image_paths = list(map(lambda x : str(x) , train_image_paths))\n",
        "\n",
        "train_image_paths[:10]"
      ]
    },
    {
      "cell_type": "code",
      "execution_count": null,
      "metadata": {
        "colab": {
          "base_uri": "https://localhost:8080/"
        },
        "id": "NjleWJhIEHdb",
        "outputId": "b77323e4-5874-446a-82e6-5ebf9fef4a68"
      },
      "outputs": [
        {
          "output_type": "execute_result",
          "data": {
            "text/plain": [
              "['fear',\n",
              " 'fear',\n",
              " 'fear',\n",
              " 'fear',\n",
              " 'fear',\n",
              " 'fear',\n",
              " 'fear',\n",
              " 'fear',\n",
              " 'fear',\n",
              " 'fear']"
            ]
          },
          "metadata": {},
          "execution_count": 8
        }
      ],
      "source": [
        "def get_label(image_path):\n",
        "    return image_path.split(\"/\")[-2]\n",
        "\n",
        "train_image_labels = list(map(lambda x : get_label(x) , train_image_paths))\n",
        "train_image_labels[:10]"
      ]
    },
    {
      "cell_type": "code",
      "execution_count": null,
      "metadata": {
        "colab": {
          "base_uri": "https://localhost:8080/"
        },
        "id": "HCSZ2Y1CEMub",
        "outputId": "87902c33-d249-4089-fddb-917249546b43"
      },
      "outputs": [
        {
          "output_type": "execute_result",
          "data": {
            "text/plain": [
              "array([2, 2, 2, 2, 2, 2, 2, 2, 2, 2])"
            ]
          },
          "metadata": {},
          "execution_count": 9
        }
      ],
      "source": [
        "from sklearn.preprocessing import LabelEncoder\n",
        "\n",
        "Le = LabelEncoder()\n",
        "train_image_labels = Le.fit_transform(train_image_labels)\n",
        "\n",
        "train_image_labels[:10]"
      ]
    },
    {
      "cell_type": "code",
      "execution_count": null,
      "metadata": {
        "id": "672jvJucERnE",
        "colab": {
          "base_uri": "https://localhost:8080/"
        },
        "outputId": "0a0e3d09-bf53-4fa7-ac0e-b82e5fbe9cff"
      },
      "outputs": [
        {
          "output_type": "execute_result",
          "data": {
            "text/plain": [
              "array([[0., 0., 1., 0., 0., 0., 0.],\n",
              "       [0., 0., 1., 0., 0., 0., 0.],\n",
              "       [0., 0., 1., 0., 0., 0., 0.],\n",
              "       [0., 0., 1., 0., 0., 0., 0.],\n",
              "       [0., 0., 1., 0., 0., 0., 0.],\n",
              "       [0., 0., 1., 0., 0., 0., 0.],\n",
              "       [0., 0., 1., 0., 0., 0., 0.],\n",
              "       [0., 0., 1., 0., 0., 0., 0.],\n",
              "       [0., 0., 1., 0., 0., 0., 0.],\n",
              "       [0., 0., 1., 0., 0., 0., 0.]], dtype=float32)"
            ]
          },
          "metadata": {},
          "execution_count": 10
        }
      ],
      "source": [
        "train_image_labels = tf.keras.utils.to_categorical(train_image_labels)\n",
        "train_image_labels[:10]"
      ]
    },
    {
      "cell_type": "code",
      "execution_count": null,
      "metadata": {
        "id": "uT9JLpVAEWgZ"
      },
      "outputs": [],
      "source": [
        "from sklearn.model_selection import train_test_split\n",
        "Train_paths , Val_paths , Train_labels , Val_labels = train_test_split(train_image_paths , train_image_labels , test_size = 0.25)"
      ]
    },
    {
      "cell_type": "code",
      "execution_count": null,
      "metadata": {
        "colab": {
          "base_uri": "https://localhost:8080/"
        },
        "id": "AHDpnslHEetO",
        "outputId": "d384320d-eef5-43eb-e295-9e3d20828bbf"
      },
      "outputs": [
        {
          "output_type": "stream",
          "name": "stdout",
          "text": [
            "{0: 1.802, 1: 17.107595, 2: 1.7534869, 3: 1.0, 4: 1.4350942, 5: 1.4946088, 6: 2.2762105}\n"
          ]
        }
      ],
      "source": [
        "classTotals = Train_labels.sum(axis=0)\n",
        "classWeight = classTotals.max() / classTotals\n",
        "\n",
        "class_weight = {e : weight for e , weight in enumerate(classWeight)}\n",
        "print(class_weight)"
      ]
    },
    {
      "cell_type": "code",
      "execution_count": null,
      "metadata": {
        "id": "ycNwQYIFEids"
      },
      "outputs": [],
      "source": [
        "def load(image , label):\n",
        "    image = tf.io.read_file(image)\n",
        "    image = tf.io.decode_jpeg(image , channels = 3)\n",
        "    return image , label"
      ]
    },
    {
      "cell_type": "code",
      "execution_count": null,
      "metadata": {
        "id": "AjZY1zj2ElDo"
      },
      "outputs": [],
      "source": [
        "IMG_SIZE = 96\n",
        "BATCH_SIZE = 32\n",
        "\n",
        "resize = tf.keras.Sequential([\n",
        "    tf.keras.layers.experimental.preprocessing.Resizing(IMG_SIZE, IMG_SIZE)\n",
        "])\n",
        "\n",
        "data_augmentation = tf.keras.Sequential([\n",
        "    tf.keras.layers.experimental.preprocessing.RandomFlip(\"horizontal\"),\n",
        "    tf.keras.layers.experimental.preprocessing.RandomRotation(0.1),\n",
        "    tf.keras.layers.experimental.preprocessing.RandomZoom(height_factor = (-0.1, -0.05))\n",
        "])"
      ]
    },
    {
      "cell_type": "code",
      "execution_count": null,
      "metadata": {
        "id": "ylz3ClHdEsyq"
      },
      "outputs": [],
      "source": [
        "AUTOTUNE = tf.data.experimental.AUTOTUNE\n",
        "def get_dataset(paths , labels , train = True):\n",
        "    image_paths = tf.convert_to_tensor(paths)\n",
        "    labels = tf.convert_to_tensor(labels)\n",
        "\n",
        "    image_dataset = tf.data.Dataset.from_tensor_slices(image_paths)\n",
        "    label_dataset = tf.data.Dataset.from_tensor_slices(labels)\n",
        "\n",
        "    dataset = tf.data.Dataset.zip((image_dataset , label_dataset))\n",
        "\n",
        "    dataset = dataset.map(lambda image , label : load(image , label))\n",
        "    dataset = dataset.map(lambda image, label: (resize(image), label) , num_parallel_calls=AUTOTUNE)\n",
        "    dataset = dataset.shuffle(1000)\n",
        "    dataset = dataset.batch(BATCH_SIZE)\n",
        "\n",
        "    if train:\n",
        "        dataset = dataset.map(lambda image, label: (data_augmentation(image), label) , num_parallel_calls=AUTOTUNE)\n",
        "\n",
        "    dataset = dataset.repeat()\n",
        "    return dataset"
      ]
    },
    {
      "cell_type": "code",
      "execution_count": null,
      "metadata": {
        "colab": {
          "base_uri": "https://localhost:8080/"
        },
        "id": "A3PaTNfCEx7h",
        "outputId": "64aa3e47-a400-4754-bcdb-4dada2c36f7d"
      },
      "outputs": [
        {
          "output_type": "stream",
          "name": "stdout",
          "text": [
            "CPU times: user 536 ms, sys: 11 ms, total: 547 ms\n",
            "Wall time: 599 ms\n",
            "(32, 96, 96, 3)\n",
            "(32, 7)\n"
          ]
        }
      ],
      "source": [
        "%time train_dataset = get_dataset(Train_paths , Train_labels)\n",
        "\n",
        "image , label = next(iter(train_dataset))\n",
        "print(image.shape)\n",
        "print(label.shape)"
      ]
    },
    {
      "cell_type": "code",
      "execution_count": null,
      "metadata": {
        "colab": {
          "base_uri": "https://localhost:8080/",
          "height": 468
        },
        "id": "G5ElwJxnFj37",
        "outputId": "17b1d106-eedd-41d0-d62a-290077c21e47"
      },
      "outputs": [
        {
          "output_type": "stream",
          "name": "stdout",
          "text": [
            "neutral\n"
          ]
        },
        {
          "output_type": "execute_result",
          "data": {
            "text/plain": [
              "<matplotlib.image.AxesImage at 0x7c64dd854f10>"
            ]
          },
          "metadata": {},
          "execution_count": 24
        },
        {
          "output_type": "display_data",
          "data": {
            "text/plain": [
              "<Figure size 640x480 with 1 Axes>"
            ],
            "image/png": "[encoded data removed]"
          },
          "metadata": {}
        }
      ],
      "source": [
        "print(Le.inverse_transform(np.argmax(label , axis = 1))[0])\n",
        "plt.imshow((image[0].numpy()/255).reshape(96, 96, 3))"
      ]
    },
    {
      "cell_type": "code",
      "execution_count": null,
      "metadata": {
        "colab": {
          "base_uri": "https://localhost:8080/"
        },
        "id": "gO1d06K3Fvm_",
        "outputId": "88fa9e69-d9dc-46c6-f9e2-d645bfe31cd5"
      },
      "outputs": [
        {
          "output_type": "stream",
          "name": "stdout",
          "text": [
            "CPU times: user 28.2 ms, sys: 920 µs, total: 29.1 ms\n",
            "Wall time: 30.5 ms\n",
            "(32, 96, 96, 3)\n",
            "(32, 7)\n"
          ]
        }
      ],
      "source": [
        "%time val_dataset = get_dataset(Val_paths , Val_labels , train = False)\n",
        "\n",
        "image , label = next(iter(val_dataset))\n",
        "print(image.shape)\n",
        "print(label.shape)"
      ]
    },
    {
      "cell_type": "code",
      "execution_count": null,
      "metadata": {
        "colab": {
          "base_uri": "https://localhost:8080/",
          "height": 468
        },
        "id": "4lDc85C2HJTX",
        "outputId": "13b98f32-a8f5-480f-c5b4-3a92b40bd095"
      },
      "outputs": [
        {
          "output_type": "stream",
          "name": "stdout",
          "text": [
            "neutral\n"
          ]
        },
        {
          "output_type": "execute_result",
          "data": {
            "text/plain": [
              "<matplotlib.image.AxesImage at 0x7c64dd652740>"
            ]
          },
          "metadata": {},
          "execution_count": 26
        },
        {
          "output_type": "display_data",
          "data": {
            "text/plain": [
              "<Figure size 640x480 with 1 Axes>"
            ],
            "image/png": "[encoded data removed]"
          },
          "metadata": {}
        }
      ],
      "source": [
        "print(Le.inverse_transform(np.argmax(label , axis = 1))[0])\n",
        "plt.imshow((image[1].numpy()/255).reshape(96 , 96 , 3))"
      ]
    },
    {
      "cell_type": "markdown",
      "metadata": {
        "id": "W_GMBws8J6MN"
      },
      "source": [
        "# Model Training"
      ]
    },
    {
      "cell_type": "code",
      "execution_count": null,
      "metadata": {
        "colab": {
          "base_uri": "https://localhost:8080/"
        },
        "id": "nYmEOtSsHNqi",
        "outputId": "3dd3ab59-8c95-4537-e93f-b94c273b2d3e"
      },
      "outputs": [
        {
          "output_type": "stream",
          "name": "stdout",
          "text": [
            "Downloading data from https://storage.googleapis.com/keras-applications/efficientnetb6_notop.h5\n",
            "165234480/165234480 [==============================] - 1s 0us/step\n"
          ]
        }
      ],
      "source": [
        "from tensorflow.keras.applications import EfficientNetB6\n",
        "\n",
        "backbone = EfficientNetB6(\n",
        "    input_shape=(96, 96, 3),\n",
        "    include_top=False\n",
        ")\n",
        "\n",
        "model = tf.keras.Sequential([\n",
        "    backbone,\n",
        "    tf.keras.layers.GlobalAveragePooling2D(),\n",
        "    tf.keras.layers.Dropout(0.3),\n",
        "    tf.keras.layers.Dense(128, activation='relu'),\n",
        "    tf.keras.layers.Dense(7, activation='softmax')\n",
        "])"
      ]
    },
    {
      "cell_type": "code",
      "execution_count": null,
      "metadata": {
        "colab": {
          "base_uri": "https://localhost:8080/"
        },
        "id": "3q1ZMUT2HucX",
        "outputId": "99c8d7d5-7bf6-4516-e292-d96768c69e07"
      },
      "outputs": [
        {
          "output_type": "stream",
          "name": "stdout",
          "text": [
            "Model: \"sequential_4\"\n",
            "_________________________________________________________________\n",
            " Layer (type)                Output Shape              Param #   \n",
            "=================================================================\n",
            " efficientnetb6 (Functional  (None, 3, 3, 2304)        40960143  \n",
            " )                                                               \n",
            "                                                                 \n",
            " global_average_pooling2d (  (None, 2304)              0         \n",
            " GlobalAveragePooling2D)                                         \n",
            "                                                                 \n",
            " dropout (Dropout)           (None, 2304)              0         \n",
            "                                                                 \n",
            " dense (Dense)               (None, 128)               295040    \n",
            "                                                                 \n",
            " dense_1 (Dense)             (None, 7)                 903       \n",
            "                                                                 \n",
            "=================================================================\n",
            "Total params: 41256086 (157.38 MB)\n",
            "Trainable params: 41031647 (156.52 MB)\n",
            "Non-trainable params: 224439 (876.72 KB)\n",
            "_________________________________________________________________\n"
          ]
        }
      ],
      "source": [
        "model.summary()"
      ]
    },
    {
      "cell_type": "code",
      "execution_count": null,
      "metadata": {
        "id": "8Sdo8ODZHyeo"
      },
      "outputs": [],
      "source": [
        "model.compile(\n",
        "    optimizer=tf.keras.optimizers.Adam(learning_rate=0.001, beta_1=0.9, beta_2=0.999, epsilon=1e-07),\n",
        "    loss = 'categorical_crossentropy',\n",
        "    metrics=['accuracy' , tf.keras.metrics.Precision(name='precision'),tf.keras.metrics.Recall(name='recall')]\n",
        ")"
      ]
    },
    {
      "cell_type": "markdown",
      "metadata": {
        "id": "8z5PgxxmK4-j"
      },
      "source": [
        "Training Phase 1"
      ]
    },
    {
      "cell_type": "code",
      "execution_count": null,
      "metadata": {
        "colab": {
          "base_uri": "https://localhost:8080/"
        },
        "id": "vJ5km2HaH3h2",
        "outputId": "8b355266-d6d8-4040-95e8-cba7cbb3fcca"
      },
      "outputs": [
        {
          "output_type": "stream",
          "name": "stdout",
          "text": [
            "Epoch 1/12\n",
            "673/673 [==============================] - 3125s 4s/step - loss: 2.8515 - accuracy: 0.3882 - precision: 0.6537 - recall: 0.1824 - val_loss: 1.3527 - val_accuracy: 0.5119 - val_precision: 0.7221 - val_recall: 0.3103\n",
            "Epoch 2/12\n",
            "673/673 [==============================] - 200s 297ms/step - loss: 2.3998 - accuracy: 0.4891 - precision: 0.6919 - recall: 0.2837 - val_loss: 1.2433 - val_accuracy: 0.5269 - val_precision: 0.7156 - val_recall: 0.3371\n",
            "Epoch 3/12\n",
            "673/673 [==============================] - 197s 292ms/step - loss: 2.2518 - accuracy: 0.5173 - precision: 0.7051 - recall: 0.3188 - val_loss: 1.2639 - val_accuracy: 0.5294 - val_precision: 0.6574 - val_recall: 0.3863\n",
            "Epoch 4/12\n",
            "673/673 [==============================] - 202s 300ms/step - loss: 2.1256 - accuracy: 0.5477 - precision: 0.7209 - recall: 0.3545 - val_loss: 1.1989 - val_accuracy: 0.5525 - val_precision: 0.6834 - val_recall: 0.4304\n",
            "Epoch 5/12\n",
            "673/673 [==============================] - 201s 299ms/step - loss: 2.0249 - accuracy: 0.5598 - precision: 0.7183 - recall: 0.3792 - val_loss: 1.1136 - val_accuracy: 0.5848 - val_precision: 0.7755 - val_recall: 0.3909\n",
            "Epoch 6/12\n",
            "673/673 [==============================] - 201s 299ms/step - loss: 1.9771 - accuracy: 0.5698 - precision: 0.7203 - recall: 0.3992 - val_loss: 1.2291 - val_accuracy: 0.5321 - val_precision: 0.6255 - val_recall: 0.4220\n",
            "Epoch 7/12\n",
            "673/673 [==============================] - 201s 299ms/step - loss: 1.9228 - accuracy: 0.5795 - precision: 0.7290 - recall: 0.4193 - val_loss: 1.1106 - val_accuracy: 0.5851 - val_precision: 0.7146 - val_recall: 0.4471\n",
            "Epoch 8/12\n",
            "673/673 [==============================] - 201s 299ms/step - loss: 1.8734 - accuracy: 0.5915 - precision: 0.7312 - recall: 0.4297 - val_loss: 1.1369 - val_accuracy: 0.5862 - val_precision: 0.6836 - val_recall: 0.4732\n",
            "Epoch 9/12\n",
            "673/673 [==============================] - 196s 292ms/step - loss: 1.8136 - accuracy: 0.5992 - precision: 0.7374 - recall: 0.4453 - val_loss: 1.0921 - val_accuracy: 0.6003 - val_precision: 0.7064 - val_recall: 0.4727\n",
            "Epoch 10/12\n",
            "673/673 [==============================] - 201s 299ms/step - loss: 1.7558 - accuracy: 0.6116 - precision: 0.7420 - recall: 0.4594 - val_loss: 1.0785 - val_accuracy: 0.5929 - val_precision: 0.7015 - val_recall: 0.4837\n",
            "Epoch 11/12\n",
            "673/673 [==============================] - 196s 292ms/step - loss: 1.7287 - accuracy: 0.6219 - precision: 0.7487 - recall: 0.4772 - val_loss: 1.0610 - val_accuracy: 0.5982 - val_precision: 0.6898 - val_recall: 0.5035\n",
            "Epoch 12/12\n",
            "673/673 [==============================] - 196s 291ms/step - loss: 1.6657 - accuracy: 0.6275 - precision: 0.7490 - recall: 0.4899 - val_loss: 1.0655 - val_accuracy: 0.6077 - val_precision: 0.7020 - val_recall: 0.5021\n"
          ]
        }
      ],
      "source": [
        "history = model.fit(\n",
        "    train_dataset,\n",
        "    steps_per_epoch=len(Train_paths)//BATCH_SIZE,\n",
        "    epochs=12,\n",
        "    validation_data=val_dataset,\n",
        "    validation_steps = len(Val_paths)//BATCH_SIZE,\n",
        "    class_weight=class_weight\n",
        ")"
      ]
    },
    {
      "cell_type": "code",
      "source": [
        "model.layers[0].trainable = False"
      ],
      "metadata": {
        "id": "iZpDugk20vzX"
      },
      "execution_count": null,
      "outputs": []
    },
    {
      "cell_type": "code",
      "source": [
        "checkpoint = tf.keras.callbacks.ModelCheckpoint(\"best_weights.h5\",verbose=1,save_best_only=True,save_weights_only = True)\n",
        "early_stop = tf.keras.callbacks.EarlyStopping(patience=4)"
      ],
      "metadata": {
        "id": "Sm85njIhAP-B"
      },
      "execution_count": null,
      "outputs": []
    },
    {
      "cell_type": "code",
      "source": [
        "model.summary()"
      ],
      "metadata": {
        "colab": {
          "base_uri": "https://localhost:8080/"
        },
        "id": "P6oIs0EwAUNm",
        "outputId": "b578b793-8afb-4814-d56b-0060ad3ee606"
      },
      "execution_count": null,
      "outputs": [
        {
          "output_type": "stream",
          "name": "stdout",
          "text": [
            "Model: \"sequential_4\"\n",
            "_________________________________________________________________\n",
            " Layer (type)                Output Shape              Param #   \n",
            "=================================================================\n",
            " efficientnetb6 (Functional  (None, 3, 3, 2304)        40960143  \n",
            " )                                                               \n",
            "                                                                 \n",
            " global_average_pooling2d (  (None, 2304)              0         \n",
            " GlobalAveragePooling2D)                                         \n",
            "                                                                 \n",
            " dropout (Dropout)           (None, 2304)              0         \n",
            "                                                                 \n",
            " dense (Dense)               (None, 128)               295040    \n",
            "                                                                 \n",
            " dense_1 (Dense)             (None, 7)                 903       \n",
            "                                                                 \n",
            "=================================================================\n",
            "Total params: 41256086 (157.38 MB)\n",
            "Trainable params: 295943 (1.13 MB)\n",
            "Non-trainable params: 40960143 (156.25 MB)\n",
            "_________________________________________________________________\n"
          ]
        }
      ]
    },
    {
      "cell_type": "markdown",
      "source": [
        "Training Phase - 2"
      ],
      "metadata": {
        "id": "FxG4ot-1AbbM"
      }
    },
    {
      "cell_type": "code",
      "source": [
        "history = model.fit(\n",
        "    train_dataset,\n",
        "    steps_per_epoch=len(Train_paths)//BATCH_SIZE,\n",
        "    epochs=8,\n",
        "    callbacks=[checkpoint , early_stop],\n",
        "    validation_data=val_dataset,\n",
        "    validation_steps = len(Val_paths)//BATCH_SIZE,\n",
        "    class_weight=class_weight\n",
        ")"
      ],
      "metadata": {
        "colab": {
          "base_uri": "https://localhost:8080/"
        },
        "id": "g95J9pskAgO3",
        "outputId": "56c7add2-c919-4908-eb01-ba13a3784eea"
      },
      "execution_count": null,
      "outputs": [
        {
          "output_type": "stream",
          "name": "stdout",
          "text": [
            "Epoch 1/8\n",
            "673/673 [==============================] - ETA: 0s - loss: 1.6091 - accuracy: 0.6405 - precision: 0.7581 - recall: 0.5131\n",
            "Epoch 1: val_loss improved from inf to 1.07717, saving model to best_weights.h5\n",
            "673/673 [==============================] - 215s 315ms/step - loss: 1.6091 - accuracy: 0.6405 - precision: 0.7581 - recall: 0.5131 - val_loss: 1.0772 - val_accuracy: 0.6147 - val_precision: 0.7123 - val_recall: 0.4983\n",
            "Epoch 2/8\n",
            "673/673 [==============================] - ETA: 0s - loss: 1.5611 - accuracy: 0.6478 - precision: 0.7567 - recall: 0.5228\n",
            "Epoch 2: val_loss improved from 1.07717 to 1.05625, saving model to best_weights.h5\n",
            "673/673 [==============================] - 198s 294ms/step - loss: 1.5611 - accuracy: 0.6478 - precision: 0.7567 - recall: 0.5228 - val_loss: 1.0563 - val_accuracy: 0.6170 - val_precision: 0.7243 - val_recall: 0.5011\n",
            "Epoch 3/8\n",
            "673/673 [==============================] - ETA: 0s - loss: 1.5375 - accuracy: 0.6501 - precision: 0.7641 - recall: 0.5320\n",
            "Epoch 3: val_loss did not improve from 1.05625\n",
            "673/673 [==============================] - 199s 295ms/step - loss: 1.5375 - accuracy: 0.6501 - precision: 0.7641 - recall: 0.5320 - val_loss: 1.1843 - val_accuracy: 0.5693 - val_precision: 0.6562 - val_recall: 0.4835\n",
            "Epoch 4/8\n",
            "673/673 [==============================] - ETA: 0s - loss: 1.4730 - accuracy: 0.6660 - precision: 0.7722 - recall: 0.5515\n",
            "Epoch 4: val_loss improved from 1.05625 to 1.01982, saving model to best_weights.h5\n",
            "673/673 [==============================] - 204s 303ms/step - loss: 1.4730 - accuracy: 0.6660 - precision: 0.7722 - recall: 0.5515 - val_loss: 1.0198 - val_accuracy: 0.6302 - val_precision: 0.7176 - val_recall: 0.5346\n",
            "Epoch 5/8\n",
            "673/673 [==============================] - ETA: 0s - loss: 1.4361 - accuracy: 0.6710 - precision: 0.7705 - recall: 0.5628\n",
            "Epoch 5: val_loss did not improve from 1.01982\n",
            "673/673 [==============================] - 197s 293ms/step - loss: 1.4361 - accuracy: 0.6710 - precision: 0.7705 - recall: 0.5628 - val_loss: 1.0612 - val_accuracy: 0.6240 - val_precision: 0.7084 - val_recall: 0.5244\n",
            "Epoch 6/8\n",
            "673/673 [==============================] - ETA: 0s - loss: 1.4658 - accuracy: 0.6723 - precision: 0.7705 - recall: 0.5624\n",
            "Epoch 6: val_loss did not improve from 1.01982\n",
            "673/673 [==============================] - 198s 294ms/step - loss: 1.4658 - accuracy: 0.6723 - precision: 0.7705 - recall: 0.5624 - val_loss: 1.1487 - val_accuracy: 0.6045 - val_precision: 0.6869 - val_recall: 0.5123\n",
            "Epoch 7/8\n",
            "673/673 [==============================] - ETA: 0s - loss: 1.3909 - accuracy: 0.6847 - precision: 0.7755 - recall: 0.5837\n",
            "Epoch 7: val_loss did not improve from 1.01982\n",
            "673/673 [==============================] - 204s 303ms/step - loss: 1.3909 - accuracy: 0.6847 - precision: 0.7755 - recall: 0.5837 - val_loss: 1.0644 - val_accuracy: 0.6271 - val_precision: 0.6904 - val_recall: 0.5646\n",
            "Epoch 8/8\n",
            "673/673 [==============================] - ETA: 0s - loss: 1.3852 - accuracy: 0.6942 - precision: 0.7814 - recall: 0.5920\n",
            "Epoch 8: val_loss did not improve from 1.01982\n",
            "673/673 [==============================] - 198s 295ms/step - loss: 1.3852 - accuracy: 0.6942 - precision: 0.7814 - recall: 0.5920 - val_loss: 1.0565 - val_accuracy: 0.6219 - val_precision: 0.6867 - val_recall: 0.5525\n"
          ]
        }
      ]
    },
    {
      "cell_type": "markdown",
      "source": [
        "# Model Testing"
      ],
      "metadata": {
        "id": "0W-UtPJVIlck"
      }
    },
    {
      "cell_type": "code",
      "source": [
        "from tensorflow.keras.applications import EfficientNetB6\n",
        "\n",
        "backbone = EfficientNetB6(\n",
        "    input_shape=(96, 96, 3),\n",
        "    include_top=False\n",
        ")\n",
        "\n",
        "model = tf.keras.Sequential([\n",
        "    backbone,\n",
        "    tf.keras.layers.GlobalAveragePooling2D(),\n",
        "    tf.keras.layers.Dropout(0.3),\n",
        "    tf.keras.layers.Dense(128, activation='relu'),\n",
        "    tf.keras.layers.Dense(7, activation='softmax')\n",
        "])\n",
        "\n",
        "model.compile(\n",
        "    optimizer=tf.keras.optimizers.Adam(learning_rate=0.001, beta_1=0.9, beta_2=0.999, epsilon=1e-07),\n",
        "    loss = 'categorical_crossentropy',\n",
        "    metrics=['accuracy' , tf.keras.metrics.Precision(name='precision'),tf.keras.metrics.Recall(name='recall')]\n",
        ")"
      ],
      "metadata": {
        "id": "3hh10UaVIeus"
      },
      "execution_count": null,
      "outputs": []
    },
    {
      "cell_type": "code",
      "source": [
        "model.load_weights(\"best_weights.h5\")"
      ],
      "metadata": {
        "id": "50dQ4syoIvp7"
      },
      "execution_count": null,
      "outputs": []
    },
    {
      "cell_type": "code",
      "source": [
        "test_image_paths = list(test_path.glob(\"*/*\"))\n",
        "test_image_paths = list(map(lambda x : str(x) , test_image_paths))\n",
        "test_labels = list(map(lambda x : get_label(x) , test_image_paths))\n",
        "\n",
        "test_labels = Le.transform(test_labels)\n",
        "test_labels = tf.keras.utils.to_categorical(test_labels)\n",
        "\n",
        "test_image_paths = tf.convert_to_tensor(test_image_paths)\n",
        "test_labels = tf.convert_to_tensor(test_labels)\n",
        "\n",
        "def decode_image(image , label):\n",
        "    image = tf.io.read_file(image)\n",
        "    image = tf.io.decode_jpeg(image , channels = 3)\n",
        "    image = tf.image.resize(image , [96 , 96] , method=\"bilinear\")\n",
        "    return image , label\n",
        "\n",
        "test_dataset = (\n",
        "     tf.data.Dataset\n",
        "    .from_tensor_slices((test_image_paths, test_labels))\n",
        "    .map(decode_image)\n",
        "    .batch(BATCH_SIZE)\n",
        ")"
      ],
      "metadata": {
        "id": "PK6ManwYI0bm"
      },
      "execution_count": null,
      "outputs": []
    },
    {
      "cell_type": "code",
      "source": [
        "image , label = next(iter(test_dataset))\n",
        "print(image.shape)\n",
        "print(label.shape)"
      ],
      "metadata": {
        "colab": {
          "base_uri": "https://localhost:8080/"
        },
        "id": "gDnx6MQQI4bq",
        "outputId": "8dd12b0b-fe58-427f-9f00-79c1694b0d69"
      },
      "execution_count": null,
      "outputs": [
        {
          "output_type": "stream",
          "name": "stdout",
          "text": [
            "(32, 96, 96, 3)\n",
            "(32, 7)\n"
          ]
        }
      ]
    },
    {
      "cell_type": "code",
      "source": [
        "print(Le.inverse_transform(np.argmax(label , axis = 1))[0])\n",
        "plt.imshow((image[0].numpy()/255).reshape(96 , 96 , 3))"
      ],
      "metadata": {
        "colab": {
          "base_uri": "https://localhost:8080/",
          "height": 468
        },
        "id": "F1VSCFKtI9xL",
        "outputId": "f39d7f97-0c46-44dd-ac2a-14f5a8f8813c"
      },
      "execution_count": null,
      "outputs": [
        {
          "output_type": "stream",
          "name": "stdout",
          "text": [
            "surprise\n"
          ]
        },
        {
          "output_type": "execute_result",
          "data": {
            "text/plain": [
              "<matplotlib.image.AxesImage at 0x7c64a17272e0>"
            ]
          },
          "metadata": {},
          "execution_count": 52
        },
        {
          "output_type": "display_data",
          "data": {
            "text/plain": [
              "<Figure size 640x480 with 1 Axes>"
            ],
            "image/png": "[encoded data removed]"
          },
          "metadata": {}
        }
      ]
    },
    {
      "cell_type": "code",
      "source": [
        "loss, acc, prec, rec = model.evaluate(test_dataset)"
      ],
      "metadata": {
        "id": "-XdKmec6JGnt"
      },
      "execution_count": null,
      "outputs": []
    },
    {
      "cell_type": "code",
      "source": [
        "print(\" Testing Acc : \" , acc*100)\n",
        "print(\" Testing Precision \" , prec*100)\n",
        "print(\" Testing Recall \" , rec*100)"
      ],
      "metadata": {
        "colab": {
          "base_uri": "https://localhost:8080/"
        },
        "id": "eR35SPyOO6p8",
        "outputId": "f65e8d6b-ffa9-4af7-d6d6-79c013ab4a69"
      },
      "execution_count": null,
      "outputs": [
        {
          "output_type": "stream",
          "name": "stdout",
          "text": [
            " Testing Acc :  91.8701293684224\n",
            " Testing Precision  84.7474570274353\n",
            " Testing Recall  76.10016775131227\n"
          ]
        }
      ]
    },
    {
      "cell_type": "markdown",
      "source": [
        "# Saving Model and Objects"
      ],
      "metadata": {
        "id": "3hzNRtDIPfS3"
      }
    },
    {
      "cell_type": "code",
      "source": [
        "model.save(\"ExpressionRecognitionModel.h5\")"
      ],
      "metadata": {
        "id": "Hk-9IImOPnWP"
      },
      "execution_count": null,
      "outputs": []
    },
    {
      "cell_type": "code",
      "source": [
        "import pickle\n",
        "\n",
        "def save_object(obj , name):\n",
        "    pickle_obj = open(f\"{name}.pck\",\"wb\")\n",
        "    pickle.dump(obj, pickle_obj)\n",
        "    pickle_obj.close()"
      ],
      "metadata": {
        "id": "qccMF8CSPuU8"
      },
      "execution_count": null,
      "outputs": []
    },
    {
      "cell_type": "code",
      "source": [
        "save_object(Le, \"LabelEncoder\")"
      ],
      "metadata": {
        "id": "5pc--CYsP2Yh"
      },
      "execution_count": null,
      "outputs": []
    }
  ],
  "metadata": {
    "accelerator": "GPU",
    "colab": {
      "provenance": [],
      "gpuType": "T4"
    },
    "kernelspec": {
      "display_name": "Python 3",
      "name": "python3"
    },
    "language_info": {
      "name": "python"
    }
  },
  "nbformat": 4,
  "nbformat_minor": 0
}